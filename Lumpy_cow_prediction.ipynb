{
  "nbformat": 4,
  "nbformat_minor": 0,
  "metadata": {
    "colab": {
      "provenance": [],
      "gpuType": "V28",
      "include_colab_link": true
    },
    "kernelspec": {
      "name": "python3",
      "display_name": "Python 3"
    },
    "language_info": {
      "name": "python"
    },
    "accelerator": "TPU"
  },
  "cells": [
    {
      "cell_type": "markdown",
      "metadata": {
        "id": "view-in-github",
        "colab_type": "text"
      },
      "source": [
        "<a href=\"https://colab.research.google.com/github/Swayam248/Lumpy-Cow-Prediction/blob/main/Lumpy_cow_prediction.ipynb\" target=\"_parent\"><img src=\"https://colab.research.google.com/assets/colab-badge.svg\" alt=\"Open In Colab\"/></a>"
      ]
    },
    {
      "cell_type": "code",
      "source": [
        "from google.colab import drive\n",
        "import os\n",
        "\n",
        "# Mounting Google Drive to Colab env\n",
        "drive.mount(\"/content/drive\", force_remount=True)\n",
        "\n",
        "# Defining the dataset directory path\n",
        "dataset_dir = '/content/drive/MyDrive/cowlump/Dataset'\n",
        "\n",
        "# Defining paths to individual folders\n",
        "train_healthycows = os.path.join(dataset_dir, 'train_healthycows')\n",
        "train_lumpycows = os.path.join(dataset_dir, 'train_lumpycows')\n",
        "test_healthycows = os.path.join(dataset_dir, 'test_healthycows')\n",
        "test_lumpycows = os.path.join(dataset_dir, 'test_lumpycows')\n",
        "\n",
        "# Check folder contents to confirm paths\n",
        "print(\"Training Healthy Cows dataset contains: \", len(os.listdir(train_healthycows)), \"data\")\n",
        "print(\"Training Lumpy Cows dataset contains: \", len(os.listdir(train_lumpycows)), \"data\")\n",
        "print(\"Testing Healthy Cows dataset contains: \", len(os.listdir(test_healthycows)), \"data\")\n",
        "print(\"Testing Lumpy Cows dataset contains: \", len(os.listdir(test_lumpycows)), \"data\")\n"
      ],
      "metadata": {
        "colab": {
          "base_uri": "https://localhost:8080/"
        },
        "id": "w7qrZe4tf_sy",
        "outputId": "5c8fe927-38b7-47dd-e9e9-3d17b3ad2711"
      },
      "execution_count": 27,
      "outputs": [
        {
          "output_type": "stream",
          "name": "stdout",
          "text": [
            "Mounted at /content/drive\n",
            "Training Healthy Cows dataset contains:  412 data\n",
            "Training Lumpy Cows dataset contains:  337 data\n",
            "Testing Healthy Cows dataset contains:  103 data\n",
            "Testing Lumpy Cows dataset contains:  84 data\n"
          ]
        }
      ]
    },
    {
      "cell_type": "code",
      "source": [
        "from tensorflow.keras.preprocessing.image import ImageDataGenerator\n",
        "'''\n",
        "A Keras utility to preprocess and augment image data. Helps to apply transformations like resizing,\n",
        "rescaling, rotation, etc., and generate batches of data for training or testing.\n",
        "'''\n",
        "\n",
        "# Data preprocessing for training data\n",
        "train_datagen = ImageDataGenerator(rescale=1.0/255)\n",
        "\n",
        "# Data preprocessing for testing data\n",
        "test_datagen = ImageDataGenerator(rescale=1.0/255)\n",
        "\n",
        "# Load training data from directories\n",
        "train_data = train_datagen.flow_from_directory(\n",
        "    directory=dataset_dir,\n",
        "    target_size=(128, 128),  # Resizing images to 128x128 pixels as NN require inputs of fixed sizze.\n",
        "    batch_size=32,            # defining the batch size(no. of images to be trained in each batch)\n",
        "    class_mode='binary',      # Binary classification: Healthy cows vs Lumpy cows\n",
        "    subset='training',        # Use this for training data\n",
        "    shuffle=True              # Shuffling images for better training to avoid any pattern\n",
        ")\n",
        "\n",
        "# Load testing data from directories\n",
        "test_data = test_datagen.flow_from_directory(\n",
        "    directory=dataset_dir,\n",
        "    target_size=(128, 128),  # Resize images to 128x128\n",
        "    batch_size=32,\n",
        "    class_mode='binary',      # Binary classification: Healthy cows vs Lumpy cows\n",
        "    subset='validation',      # Use this for validation/testing data\n",
        "    shuffle=False             # No shuffling for test set\n",
        ")\n"
      ],
      "metadata": {
        "colab": {
          "base_uri": "https://localhost:8080/"
        },
        "id": "Oy-NRUtEkZW3",
        "outputId": "14b7f719-268a-45f1-d1a5-35fe82c228f5"
      },
      "execution_count": 11,
      "outputs": [
        {
          "output_type": "stream",
          "name": "stdout",
          "text": [
            "Found 938 images belonging to 5 classes.\n",
            "Found 0 images belonging to 5 classes.\n"
          ]
        }
      ]
    },
    {
      "cell_type": "code",
      "source": [
        "from tensorflow.keras.models import Sequential\n",
        "from tensorflow.keras.layers import Conv2D, MaxPooling2D, Flatten, Dense, Dropout\n",
        "\n",
        "'''\n",
        "Sequential: A Keras API for building the models layer by layer, where each layer has exactly one input and one output.\n",
        "Conv2D: A convolutional layer used for feature extraction from images.\n",
        "MaxPooling2D: Reduces the spatial dimensions (height and width) of the feature maps, retaining only the most important information.\n",
        "Flatten: Converts the 2D feature maps into a 1D vector for the fully connected layers.\n",
        "Dense: A fully connected layer where each input is connected to every output.\n",
        "Dropout: A regularization technique to reduce overfitting by randomly setting a fraction of inputs to zero during training.\n",
        "'''\n",
        "# Define the CNN model\n",
        "model = Sequential([\n",
        "    Conv2D(32, (3, 3), activation='relu', input_shape=(128, 128, 3)),\n",
        "    #relu Applies the ReLU activation function,  which introduces non-linearity and removes negative values.'''\n",
        "    #32 is no. of filters and 3,3 is size of each filter\n",
        "    #input_shape=(128, 128, 3): Specifies the input image dimensions (128x128 pixels, 3 color channels for RGB).\n",
        "    MaxPooling2D(pool_size=(2, 2)),\n",
        "    Conv2D(64, (3, 3), activation='relu'),\n",
        "    #Increases the depth of the model to learn more complex features.\n",
        "    #64 and 128: The number of filters increases with depth, allowing the model to learn more detailed features.\n",
        "    MaxPooling2D(pool_size=(2, 2)),\n",
        "    Conv2D(128, (3, 3), activation='relu'),\n",
        "    MaxPooling2D(pool_size=(2, 2)),\n",
        "    Flatten(),\n",
        "    Dense(128, activation='relu'), #fully connected layer with 128 neurons and ReLU activation.\n",
        "    Dropout(0.5),  # Dropout layer to prevent overfitting, Randomly drops 50% of the neurons during training\n",
        "    Dense(1, activation='sigmoid')  # Sigmoid for binary classification, Outputs a value between 0 and 1\n",
        "])\n",
        "\n",
        "# Compile the model\n",
        "model.compile(optimizer='adam', loss='binary_crossentropy', metrics=['accuracy'])\n",
        "'''\n",
        "Adam is a popular optimizer that adapts the learning rate during training for efficient convergence.\n",
        "binary_crossentropy is used for binary classification tasks. Measures the difference between the predicted and actual class probabilities.\n",
        "Tracks the accuracy during training and validation.\n",
        "'''\n",
        "# Display model architecture\n",
        "model.summary()\n"
      ],
      "metadata": {
        "colab": {
          "base_uri": "https://localhost:8080/"
        },
        "id": "SuKBxwO_khyt",
        "outputId": "27395463-0a83-4a5c-c159-6bcbd8fc0a0c"
      },
      "execution_count": 12,
      "outputs": [
        {
          "output_type": "stream",
          "name": "stdout",
          "text": [
            "Model: \"sequential_2\"\n",
            "_________________________________________________________________\n",
            " Layer (type)                Output Shape              Param #   \n",
            "=================================================================\n",
            " conv2d_6 (Conv2D)           (None, 126, 126, 32)      896       \n",
            "                                                                 \n",
            " max_pooling2d_6 (MaxPoolin  (None, 63, 63, 32)        0         \n",
            " g2D)                                                            \n",
            "                                                                 \n",
            " conv2d_7 (Conv2D)           (None, 61, 61, 64)        18496     \n",
            "                                                                 \n",
            " max_pooling2d_7 (MaxPoolin  (None, 30, 30, 64)        0         \n",
            " g2D)                                                            \n",
            "                                                                 \n",
            " conv2d_8 (Conv2D)           (None, 28, 28, 128)       73856     \n",
            "                                                                 \n",
            " max_pooling2d_8 (MaxPoolin  (None, 14, 14, 128)       0         \n",
            " g2D)                                                            \n",
            "                                                                 \n",
            " flatten_2 (Flatten)         (None, 25088)             0         \n",
            "                                                                 \n",
            " dense_4 (Dense)             (None, 128)               3211392   \n",
            "                                                                 \n",
            " dropout_1 (Dropout)         (None, 128)               0         \n",
            "                                                                 \n",
            " dense_5 (Dense)             (None, 1)                 129       \n",
            "                                                                 \n",
            "=================================================================\n",
            "Total params: 3304769 (12.61 MB)\n",
            "Trainable params: 3304769 (12.61 MB)\n",
            "Non-trainable params: 0 (0.00 Byte)\n",
            "_________________________________________________________________\n"
          ]
        }
      ]
    },
    {
      "cell_type": "code",
      "source": [
        "# Print the number of files in each folder\n",
        "print(f\"Training Healthy Cows: {len(os.listdir(train_healthycows))}\")\n",
        "print(f\"Training Lumpy Cows: {len(os.listdir(train_lumpycows))}\")\n",
        "print(f\"Testing Healthy Cows: {len(os.listdir(test_healthycows))}\")\n",
        "print(f\"Testing Lumpy Cows: {len(os.listdir(test_lumpycows))}\")\n"
      ],
      "metadata": {
        "colab": {
          "base_uri": "https://localhost:8080/"
        },
        "id": "1dCUBmCukkAS",
        "outputId": "70b9d599-6d41-4056-8a91-f5ae31005ef1"
      },
      "execution_count": 13,
      "outputs": [
        {
          "output_type": "stream",
          "name": "stdout",
          "text": [
            "Training Healthy Cows: 412\n",
            "Training Lumpy Cows: 337\n",
            "Testing Healthy Cows: 103\n",
            "Testing Lumpy Cows: 84\n"
          ]
        }
      ]
    },
    {
      "cell_type": "code",
      "source": [
        "from tensorflow.keras.preprocessing.image import ImageDataGenerator\n",
        "\n",
        "# Data augmentation for training data\n",
        "train_datagen = ImageDataGenerator(\n",
        "    rescale=1.0/255,      # Normalize pixel values to [0, 1]\n",
        "    shear_range=0.2,      # Shear transformation  (slanting the image) within a range of 20%.\n",
        "    zoom_range=0.2,       # Random zoom in or out on images by up to 20%.\n",
        "    horizontal_flip=True  # Random horizontal flipping to simulate different perspectives.\n",
        ")\n",
        "\n",
        "# Data preprocessing for testing data\n",
        "test_datagen = ImageDataGenerator(rescale=1.0/255)\n",
        "\n",
        "# Load training data from its respective directories\n",
        "train_data = train_datagen.flow_from_directory(\n",
        "    directory='/content/drive/MyDrive/cowlump/Dataset',  # Root directory containing subfolders\n",
        "    target_size=(128, 128),  # Resize images to 128x128\n",
        "    batch_size=32,\n",
        "    class_mode='binary',     # Binary classification: Healthy vs Lumpy cows\n",
        "    classes=['train_healthycows', 'train_lumpycows'],  # Explicit class names\n",
        "    shuffle=True\n",
        ")\n",
        "\n",
        "# Load testing data from the specific subfolders\n",
        "test_data = test_datagen.flow_from_directory(\n",
        "    #The flow_from_directory method generates batches of images and corresponding labels from the subfolder structure.\n",
        "    #Each class (subfolder) is assigned a label based on the order in the classes list:\n",
        "    #train_healthycows → Label 0\n",
        "    #train_lumpycows → Label 1\n",
        "    directory='/content/drive/MyDrive/cowlump/Dataset',\n",
        "    target_size=(128, 128),\n",
        "    batch_size=32,\n",
        "    class_mode='binary',      # Binary classification: Healthy vs Lumpy cows\n",
        "    classes=['test_healthycows', 'test_lumpycows'],  # Explicit class names\n",
        "    shuffle=False\n",
        ")\n"
      ],
      "metadata": {
        "id": "Zl7KtXasaUZq",
        "colab": {
          "base_uri": "https://localhost:8080/"
        },
        "outputId": "a7e348ce-f454-42e6-938d-27f77c0f98ea"
      },
      "execution_count": 14,
      "outputs": [
        {
          "output_type": "stream",
          "name": "stdout",
          "text": [
            "Found 749 images belonging to 2 classes.\n",
            "Found 187 images belonging to 2 classes.\n"
          ]
        }
      ]
    },
    {
      "cell_type": "code",
      "source": [
        "#showing the correspond labels\n",
        "print(train_data.class_indices)\n",
        "print(test_data.class_indices)"
      ],
      "metadata": {
        "colab": {
          "base_uri": "https://localhost:8080/"
        },
        "id": "69bT4prZ9QHa",
        "outputId": "b03767a3-1b0a-4688-c6e9-b37e43f1c7d6"
      },
      "execution_count": 15,
      "outputs": [
        {
          "output_type": "stream",
          "name": "stdout",
          "text": [
            "{'train_healthycows': 0, 'train_lumpycows': 1}\n",
            "{'test_healthycows': 0, 'test_lumpycows': 1}\n"
          ]
        }
      ]
    },
    {
      "cell_type": "code",
      "source": [
        "from tensorflow.keras import layers, models\n",
        "#displaying the summary of a Convolutional Neural Network (CNN) model\n",
        "# Build the CNN model\n",
        "model = models.Sequential()\n",
        "#models.Sequential: Simplifies model creation by stacking layers in a linear order.\n",
        "\n",
        "# First convolutional layer\n",
        "model.add(layers.Conv2D(32, (3, 3), activation='relu', input_shape=(128, 128, 3)))\n",
        "model.add(layers.MaxPooling2D((2, 2)))\n",
        "'''MaxPooling2D((2, 2)) reduces the spatial dimensions of the feature map by taking the maximum value in a 2x2 window.\n",
        "This helps in dimensionality reduction and retaining the most important features.\n",
        "'''\n",
        "\n",
        "# Second convolutional layer\n",
        "model.add(layers.Conv2D(64, (3, 3), activation='relu'))\n",
        "model.add(layers.MaxPooling2D((2, 2)))\n",
        "\n",
        "# Third convolutional layer\n",
        "model.add(layers.Conv2D(128, (3, 3), activation='relu'))\n",
        "model.add(layers.MaxPooling2D((2, 2)))\n",
        "\n",
        "# Flatten the layers to feed into a fully connected layer\n",
        "model.add(layers.Flatten())\n",
        "#Converts the 3D feature maps into a 1D vector so that it can be fed into fully connected (dense) layers.\n",
        "\n",
        "# Dense layer with 128 units and ReLU activation\n",
        "model.add(layers.Dense(128, activation='relu'))\n",
        "#A fully connected layer with 128 units.\n",
        "#ReLU Activation allows the network to capture non-linear relationships.\n",
        "\n",
        "# Output layer with 1 unit for binary classification\n",
        "model.add(layers.Dense(1, activation='sigmoid'))\n",
        "# Output layer with 1 unit for binary classification (e.g., healthy vs. lumpy cows).\n",
        "# Sigmoid Activation outputs a probability between 0 and 1.\n",
        "\n",
        "# Model summary\n",
        "model.summary()\n"
      ],
      "metadata": {
        "colab": {
          "base_uri": "https://localhost:8080/"
        },
        "id": "CamgcrGymgiq",
        "outputId": "fb3c116b-b9ce-4588-f697-7ee47c5a8e65"
      },
      "execution_count": 16,
      "outputs": [
        {
          "output_type": "stream",
          "name": "stdout",
          "text": [
            "Model: \"sequential_3\"\n",
            "_________________________________________________________________\n",
            " Layer (type)                Output Shape              Param #   \n",
            "=================================================================\n",
            " conv2d_9 (Conv2D)           (None, 126, 126, 32)      896       \n",
            "                                                                 \n",
            " max_pooling2d_9 (MaxPoolin  (None, 63, 63, 32)        0         \n",
            " g2D)                                                            \n",
            "                                                                 \n",
            " conv2d_10 (Conv2D)          (None, 61, 61, 64)        18496     \n",
            "                                                                 \n",
            " max_pooling2d_10 (MaxPooli  (None, 30, 30, 64)        0         \n",
            " ng2D)                                                           \n",
            "                                                                 \n",
            " conv2d_11 (Conv2D)          (None, 28, 28, 128)       73856     \n",
            "                                                                 \n",
            " max_pooling2d_11 (MaxPooli  (None, 14, 14, 128)       0         \n",
            " ng2D)                                                           \n",
            "                                                                 \n",
            " flatten_3 (Flatten)         (None, 25088)             0         \n",
            "                                                                 \n",
            " dense_6 (Dense)             (None, 128)               3211392   \n",
            "                                                                 \n",
            " dense_7 (Dense)             (None, 1)                 129       \n",
            "                                                                 \n",
            "=================================================================\n",
            "Total params: 3304769 (12.61 MB)\n",
            "Trainable params: 3304769 (12.61 MB)\n",
            "Non-trainable params: 0 (0.00 Byte)\n",
            "_________________________________________________________________\n"
          ]
        }
      ]
    },
    {
      "cell_type": "code",
      "source": [
        "# Compile the model\n",
        "#compile() method configures the model's learning process.\n",
        "model.compile(optimizer='adam',   # Adam optimizer\n",
        "              loss='binary_crossentropy',  # Binary cross-entropy loss for binary classification\n",
        "              metrics=['accuracy'])  # Track accuracy during training\n"
      ],
      "metadata": {
        "id": "8XQBMWYHmkiU"
      },
      "execution_count": 17,
      "outputs": []
    },
    {
      "cell_type": "code",
      "source": [
        "# Train the model\n",
        "#fit() function trains the model using the training dataset and evaluates it on the validation dataset after each epoch.\n",
        "history = model.fit(\n",
        "    train_data,    # Training data\n",
        "    epochs=10,     # Number of epochs to train, epoch is one complete pass through the entire training dataset.\n",
        "    #too less epochs leads underfitting and vice versa leads overfitting.\n",
        "    validation_data=test_data  # Validation data\n",
        ")\n"
      ],
      "metadata": {
        "colab": {
          "base_uri": "https://localhost:8080/"
        },
        "id": "4_-tlDSKmoI3",
        "outputId": "71084d66-8fb5-41d4-ab8a-36180a1666f2"
      },
      "execution_count": 18,
      "outputs": [
        {
          "output_type": "stream",
          "name": "stdout",
          "text": [
            "Epoch 1/10\n",
            "24/24 [==============================] - 172s 7s/step - loss: 0.7411 - accuracy: 0.5808 - val_loss: 0.5958 - val_accuracy: 0.6898\n",
            "Epoch 2/10\n",
            "24/24 [==============================] - 21s 874ms/step - loss: 0.6121 - accuracy: 0.6836 - val_loss: 0.5000 - val_accuracy: 0.7861\n",
            "Epoch 3/10\n",
            "24/24 [==============================] - 21s 878ms/step - loss: 0.6205 - accuracy: 0.6689 - val_loss: 0.4826 - val_accuracy: 0.8182\n",
            "Epoch 4/10\n",
            "24/24 [==============================] - 21s 865ms/step - loss: 0.5564 - accuracy: 0.7156 - val_loss: 0.4158 - val_accuracy: 0.8075\n",
            "Epoch 5/10\n",
            "24/24 [==============================] - 21s 869ms/step - loss: 0.5212 - accuracy: 0.7276 - val_loss: 0.4967 - val_accuracy: 0.7647\n",
            "Epoch 6/10\n",
            "24/24 [==============================] - 21s 874ms/step - loss: 0.5225 - accuracy: 0.7450 - val_loss: 0.4161 - val_accuracy: 0.8289\n",
            "Epoch 7/10\n",
            "24/24 [==============================] - 21s 874ms/step - loss: 0.5056 - accuracy: 0.7637 - val_loss: 0.4116 - val_accuracy: 0.8075\n",
            "Epoch 8/10\n",
            "24/24 [==============================] - 21s 870ms/step - loss: 0.4951 - accuracy: 0.7570 - val_loss: 0.4090 - val_accuracy: 0.8235\n",
            "Epoch 9/10\n",
            "24/24 [==============================] - 21s 874ms/step - loss: 0.5135 - accuracy: 0.7303 - val_loss: 0.3875 - val_accuracy: 0.8556\n",
            "Epoch 10/10\n",
            "24/24 [==============================] - 21s 857ms/step - loss: 0.4738 - accuracy: 0.7770 - val_loss: 0.4716 - val_accuracy: 0.8075\n"
          ]
        }
      ]
    },
    {
      "cell_type": "code",
      "source": [
        "import matplotlib.pyplot as plt\n",
        "\n",
        "# Plot training & validation accuracy\n",
        "# plt.subplot(1, 2, 1): Creates a subplot with 1 row and 2 columns. This specifies that you want to plot the first graph on the left side.\n",
        "plt.figure(figsize=(12, 4))\n",
        "plt.subplot(1, 2, 1)\n",
        "plt.plot(history.history['accuracy'], label='Training Accuracy')\n",
        "plt.plot(history.history['val_accuracy'], label='Validation Accuracy')\n",
        "plt.title('Accuracy')\n",
        "plt.legend()\n",
        "\n",
        "# Plot training & validation loss\n",
        "plt.subplot(1, 2, 2)\n",
        "plt.plot(history.history['loss'], label='Training Loss')\n",
        "plt.plot(history.history['val_loss'], label='Validation Loss')\n",
        "plt.title('Loss')\n",
        "plt.legend()\n",
        "\n",
        "plt.show()\n"
      ],
      "metadata": {
        "colab": {
          "base_uri": "https://localhost:8080/",
          "height": 391
        },
        "id": "jjBNLHtjoRGG",
        "outputId": "30f2109f-e3f0-421d-f7e5-17c20af5c724"
      },
      "execution_count": 19,
      "outputs": [
        {
          "output_type": "display_data",
          "data": {
            "text/plain": [
              "<Figure size 1200x400 with 2 Axes>"
            ],
            "image/png": "[encoded data removed]"
          },
          "metadata": {}
        }
      ]
    },
    {
      "cell_type": "code",
      "source": [
        "from tensorflow.keras.preprocessing import image\n",
        "#image: This module from tensorflow.keras.preprocessing is used to load and preprocess images before passing them to the model for prediction.\n",
        "import numpy as np\n",
        "\n",
        "# Load and preprocess a random image from the test set\n",
        "img_path = \"/content/drive/MyDrive/cowlump/Dataset/Data_for_testing_random_images/lumpy_cow.jpg\"  # Path in drive which contains the dataset for testing\n",
        "img = image.load_img(img_path, target_size=(128, 128))  # Resize the image to match the input size of the model (128x128 size is normalised)\n",
        "img_array = image.img_to_array(img)  # Convert image to array\n",
        "'''img_to_array(): Converts the loaded image (which is in the form of a PIL image) into a NumPy array.\n",
        "This is necessary because Keras models expect the input data in array form.'''\n",
        "img_array = np.expand_dims(img_array, axis=0)  # Add batch dimension\n",
        "'''\n",
        "np.expand_dims(): Adds an additional dimension to the image array. The model expects input in batches (even if you're testing on one image).\n",
        " So, this converts the shape of the image from (128, 128, 3) to (1, 128, 128, 3) to represent a batch size of 1.\n",
        "'''\n",
        "img_array = img_array / 255.0  # Normalize pixel values to [0, 1]\n",
        "\n",
        "# Predict using the trained model\n",
        "prediction = model.predict(img_array)\n",
        "\n",
        "# Display the result\n",
        "if prediction < 0.5:\n",
        "    print(\"The cow is Healthy.\")\n",
        "else:\n",
        "    print(\"The cow is Lumpy.\")\n"
      ],
      "metadata": {
        "colab": {
          "base_uri": "https://localhost:8080/"
        },
        "id": "DJV1Oel1oUfr",
        "outputId": "8db40396-1bb8-4728-b83b-c1aed70afac4"
      },
      "execution_count": 20,
      "outputs": [
        {
          "output_type": "stream",
          "name": "stdout",
          "text": [
            "1/1 [==============================] - 0s 100ms/step\n",
            "The cow is Healthy.\n"
          ]
        }
      ]
    },
    {
      "cell_type": "code",
      "source": [
        "model.save('/content/cow_health_model.h5')\n"
      ],
      "metadata": {
        "colab": {
          "base_uri": "https://localhost:8080/"
        },
        "id": "zqQEJBwGh9Kq",
        "outputId": "676ddb12-7269-4196-c7d6-5fa8b1141a3d"
      },
      "execution_count": 28,
      "outputs": [
        {
          "output_type": "stream",
          "name": "stderr",
          "text": [
            "/usr/local/lib/python3.10/dist-packages/keras/src/engine/training.py:3103: UserWarning: You are saving your model as an HDF5 file via `model.save()`. This file format is considered legacy. We recommend using instead the native Keras format, e.g. `model.save('my_model.keras')`.\n",
            "  saving_api.save_model(\n"
          ]
        }
      ]
    }
  ]
}